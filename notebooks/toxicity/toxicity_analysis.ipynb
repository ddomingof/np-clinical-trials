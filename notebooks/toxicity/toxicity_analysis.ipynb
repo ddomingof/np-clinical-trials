{
 "cells": [
  {
   "cell_type": "markdown",
   "metadata": {},
   "source": [
    "# Understanding decreased drug attrition for NPs based on toxicity data"
   ]
  },
  {
   "cell_type": "code",
   "execution_count": 1,
   "metadata": {},
   "outputs": [],
   "source": [
    "import os\n",
    "import warnings\n",
    "\n",
    "import pandas as pd\n",
    "from rdkit import RDLogger\n",
    "from rdkit.Contrib.NP_Score import npscorer\n",
    "from rdkit import Chem\n",
    "from tqdm import tqdm\n",
    "\n",
    "import matplotlib.pyplot as plt\n",
    "import matplotlib.patches as mpatches\n",
    "import seaborn as sns"
   ]
  },
  {
   "cell_type": "code",
   "execution_count": 2,
   "metadata": {},
   "outputs": [],
   "source": [
    "# Disable warnings\n",
    "RDLogger.DisableLog(\"rdApp.*\")\n",
    "warnings.filterwarnings(\"ignore\", \"is_categorical_dtype\")"
   ]
  },
  {
   "cell_type": "markdown",
   "metadata": {},
   "source": [
    "# Functions"
   ]
  },
  {
   "cell_type": "code",
   "execution_count": 3,
   "metadata": {},
   "outputs": [],
   "source": [
    "def get_percent_distributions(scores: list) -> dict:\n",
    "    \"\"\"Get the percentage distribution of the classes\"\"\"\n",
    "    hybrid_percentage = round(\n",
    "        len([score for score in scores if score >= 0 and score <= 0.6])\n",
    "        / len(scores)\n",
    "        * 100,\n",
    "        2,\n",
    "    )\n",
    "\n",
    "    np_like_percentage = round(\n",
    "        len([score for score in scores if score > 0.6]) / len(scores) * 100, 2\n",
    "    )\n",
    "\n",
    "    synthetics_percentage = round(\n",
    "        len([score for score in scores if score < 0]) / len(scores) * 100, 2\n",
    "    )\n",
    "\n",
    "    assert sum([np_like_percentage, synthetics_percentage, hybrid_percentage]) > 99\n",
    "\n",
    "    assert sum([np_like_percentage, synthetics_percentage, hybrid_percentage]) < 101\n",
    "\n",
    "    return {\n",
    "        \"hybrid_percentage\": hybrid_percentage,\n",
    "        \"np_like_percentage\": np_like_percentage,\n",
    "        \"synthetics_percentage\": synthetics_percentage,\n",
    "    }\n",
    "\n",
    "\n",
    "def get_relative_proportion_of_toxic(\n",
    "    toxic_scores: list, non_toxic_scores: list\n",
    ") -> dict:\n",
    "    \"\"\"Get the percentage distribution of the classes\"\"\"\n",
    "    hybrid_toxic = len([score for score in toxic_scores if score >= 0 and score <= 0.6])\n",
    "    np_like_toxic = len([score for score in toxic_scores if score > 0.6])\n",
    "    synthetics_toxic = len([score for score in toxic_scores if score < 0])\n",
    "\n",
    "    hybrid_non_toxic = len(\n",
    "        [score for score in non_toxic_scores if score >= 0 and score <= 0.6]\n",
    "    )\n",
    "    np_like_non_toxic = len([score for score in non_toxic_scores if score > 0.6])\n",
    "    synthetics_non_toxic = len([score for score in non_toxic_scores if score < 0])\n",
    "\n",
    "    return {\n",
    "        \"proportion_toxic_hybrid\": round(\n",
    "            hybrid_toxic / (hybrid_toxic + hybrid_non_toxic) * 100, 2\n",
    "        ),\n",
    "        \"proportion_toxic_np_like\": round(\n",
    "            np_like_toxic / (np_like_toxic + np_like_non_toxic) * 100, 2\n",
    "        ),\n",
    "        \"proportion_toxic_synthetics\": round(\n",
    "            synthetics_toxic / (synthetics_toxic + synthetics_non_toxic) * 100, 2\n",
    "        ),\n",
    "    }"
   ]
  },
  {
   "cell_type": "markdown",
   "metadata": {},
   "source": [
    "# Load carcinogenic data"
   ]
  },
  {
   "cell_type": "code",
   "execution_count": 4,
   "metadata": {},
   "outputs": [
    {
     "data": {
      "text/html": [
       "<div>\n",
       "<style scoped>\n",
       "    .dataframe tbody tr th:only-of-type {\n",
       "        vertical-align: middle;\n",
       "    }\n",
       "\n",
       "    .dataframe tbody tr th {\n",
       "        vertical-align: top;\n",
       "    }\n",
       "\n",
       "    .dataframe thead th {\n",
       "        text-align: right;\n",
       "    }\n",
       "</style>\n",
       "<table border=\"1\" class=\"dataframe\">\n",
       "  <thead>\n",
       "    <tr style=\"text-align: right;\">\n",
       "      <th></th>\n",
       "      <th>TAID</th>\n",
       "      <th>Name</th>\n",
       "      <th>IUPAC Name</th>\n",
       "      <th>PubChem CID</th>\n",
       "      <th>Canonical SMILES</th>\n",
       "      <th>InChIKey</th>\n",
       "      <th>Toxicity Value</th>\n",
       "    </tr>\n",
       "  </thead>\n",
       "  <tbody>\n",
       "    <tr>\n",
       "      <th>0</th>\n",
       "      <td>TOX-19</td>\n",
       "      <td>mannitol</td>\n",
       "      <td>(2R,3R,4R,5R)-hexane-1,2,3,4,5,6-hexol</td>\n",
       "      <td>6251.0</td>\n",
       "      <td>OC[C@@H](O)[C@@H](O)[C@H](O)[C@H](O)CO</td>\n",
       "      <td>FBPFZTCFMRRESA-KVTDHHQDSA-N</td>\n",
       "      <td>0</td>\n",
       "    </tr>\n",
       "    <tr>\n",
       "      <th>1</th>\n",
       "      <td>TOX-28</td>\n",
       "      <td>nitroglycerin</td>\n",
       "      <td>1,3-dinitrooxypropan-2-yl nitrate</td>\n",
       "      <td>4510.0</td>\n",
       "      <td>O=[N+]([O-])OCC(CO[N+](=O)[O-])O[N+](=O)[O-]</td>\n",
       "      <td>SNIOPGDIGTZGOP-UHFFFAOYSA-N</td>\n",
       "      <td>1</td>\n",
       "    </tr>\n",
       "  </tbody>\n",
       "</table>\n",
       "</div>"
      ],
      "text/plain": [
       "     TAID           Name                              IUPAC Name  PubChem CID  \\\n",
       "0  TOX-19       mannitol  (2R,3R,4R,5R)-hexane-1,2,3,4,5,6-hexol       6251.0   \n",
       "1  TOX-28  nitroglycerin       1,3-dinitrooxypropan-2-yl nitrate       4510.0   \n",
       "\n",
       "                               Canonical SMILES                     InChIKey  \\\n",
       "0        OC[C@@H](O)[C@@H](O)[C@H](O)[C@H](O)CO  FBPFZTCFMRRESA-KVTDHHQDSA-N   \n",
       "1  O=[N+]([O-])OCC(CO[N+](=O)[O-])O[N+](=O)[O-]  SNIOPGDIGTZGOP-UHFFFAOYSA-N   \n",
       "\n",
       "   Toxicity Value  \n",
       "0               0  \n",
       "1               1  "
      ]
     },
     "execution_count": 4,
     "metadata": {},
     "output_type": "execute_result"
    }
   ],
   "source": [
    "carcinogenic_df = pd.read_csv(\"../../data/Carcinogenicity.csv\")\n",
    "carcinogenic_df.head(2)"
   ]
  },
  {
   "cell_type": "code",
   "execution_count": 5,
   "metadata": {},
   "outputs": [],
   "source": [
    "carcinogenic_df.dropna(subset=[\"Canonical SMILES\"], inplace=True)\n",
    "carcinogenic_df.drop_duplicates(subset=[\"Canonical SMILES\"], inplace=True)"
   ]
  },
  {
   "cell_type": "code",
   "execution_count": 6,
   "metadata": {},
   "outputs": [
    {
     "data": {
      "text/plain": [
       "'Carcinogenic compounds: 1001'"
      ]
     },
     "execution_count": 6,
     "metadata": {},
     "output_type": "execute_result"
    }
   ],
   "source": [
    "cmp_smiles = carcinogenic_df[\"Canonical SMILES\"].tolist()\n",
    "f\"Carcinogenic compounds: {len(cmp_smiles)}\""
   ]
  },
  {
   "cell_type": "code",
   "execution_count": 7,
   "metadata": {},
   "outputs": [
    {
     "data": {
      "text/plain": [
       "1    502\n",
       "0    499\n",
       "Name: Toxicity Value, dtype: int64"
      ]
     },
     "execution_count": 7,
     "metadata": {},
     "output_type": "execute_result"
    }
   ],
   "source": [
    "carcinogenic_df[\"Toxicity Value\"].value_counts()"
   ]
  },
  {
   "cell_type": "markdown",
   "metadata": {},
   "source": [
    "# NP likeliness"
   ]
  },
  {
   "cell_type": "code",
   "execution_count": 8,
   "metadata": {},
   "outputs": [
    {
     "name": "stderr",
     "output_type": "stream",
     "text": [
      "reading NP model ...\n",
      "model in\n"
     ]
    }
   ],
   "source": [
    "np_model = npscorer.readNPModel()"
   ]
  },
  {
   "cell_type": "code",
   "execution_count": 9,
   "metadata": {},
   "outputs": [],
   "source": [
    "def get_np_scores(list_smiles):\n",
    "    np_scores = []\n",
    "    skipped = 0\n",
    "\n",
    "    for input_smile in tqdm(list_smiles):\n",
    "        try:\n",
    "            input_smile = Chem.CanonSmiles(input_smile)\n",
    "            mol = Chem.MolFromSmiles(input_smile)\n",
    "        except:\n",
    "            skipped += 1\n",
    "            np_scores.append(None)\n",
    "            continue\n",
    "\n",
    "        if mol is None:\n",
    "            skipped += 1\n",
    "            np_scores.append(None)\n",
    "            continue\n",
    "\n",
    "        # if number of atoms less than 4, skip\n",
    "        if mol.GetNumAtoms() < 4:\n",
    "            skipped += 1\n",
    "            np_scores.append(None)\n",
    "            continue\n",
    "\n",
    "        try:\n",
    "            score = npscorer.scoreMol(mol, np_model)\n",
    "        except:\n",
    "            skipped += 1\n",
    "            np_scores.append(None)\n",
    "            continue\n",
    "\n",
    "        np_scores.append(score)\n",
    "\n",
    "    f\"Skipped {skipped} compounds\"\n",
    "    return np_scores"
   ]
  },
  {
   "cell_type": "code",
   "execution_count": 10,
   "metadata": {},
   "outputs": [
    {
     "name": "stderr",
     "output_type": "stream",
     "text": [
      "100%|██████████| 1001/1001 [00:00<00:00, 3512.81it/s]\n"
     ]
    }
   ],
   "source": [
    "carcinogenic_df[\"np_score\"] = get_np_scores(cmp_smiles)\n",
    "carcinogenic_df.dropna(subset=[\"np_score\"], inplace=True)"
   ]
  },
  {
   "cell_type": "code",
   "execution_count": 11,
   "metadata": {},
   "outputs": [],
   "source": [
    "toxic_carcinogen = carcinogenic_df[carcinogenic_df[\"Toxicity Value\"] == 1]\n",
    "non_toxic_carcinogen = carcinogenic_df[carcinogenic_df[\"Toxicity Value\"] == 0]"
   ]
  },
  {
   "cell_type": "code",
   "execution_count": 12,
   "metadata": {},
   "outputs": [],
   "source": [
    "percent_tox_carcino_dict = get_percent_distributions(\n",
    "    toxic_carcinogen[\"np_score\"].tolist()\n",
    ")\n",
    "percent_non_tox_carcino_dict = get_percent_distributions(\n",
    "    non_toxic_carcinogen[\"np_score\"].tolist()\n",
    ")\n",
    "\n",
    "cancer_proportion_toxic_dict = get_relative_proportion_of_toxic(\n",
    "    toxic_carcinogen[\"np_score\"].tolist(), non_toxic_carcinogen[\"np_score\"].tolist()\n",
    ")"
   ]
  },
  {
   "cell_type": "markdown",
   "metadata": {},
   "source": [
    "# CYP450"
   ]
  },
  {
   "cell_type": "code",
   "execution_count": 13,
   "metadata": {},
   "outputs": [
    {
     "data": {
      "text/html": [
       "<div>\n",
       "<style scoped>\n",
       "    .dataframe tbody tr th:only-of-type {\n",
       "        vertical-align: middle;\n",
       "    }\n",
       "\n",
       "    .dataframe tbody tr th {\n",
       "        vertical-align: top;\n",
       "    }\n",
       "\n",
       "    .dataframe thead th {\n",
       "        text-align: right;\n",
       "    }\n",
       "</style>\n",
       "<table border=\"1\" class=\"dataframe\">\n",
       "  <thead>\n",
       "    <tr style=\"text-align: right;\">\n",
       "      <th></th>\n",
       "      <th>TAID</th>\n",
       "      <th>Name</th>\n",
       "      <th>IUPAC Name</th>\n",
       "      <th>PubChem CID</th>\n",
       "      <th>Canonical SMILES</th>\n",
       "      <th>InChIKey</th>\n",
       "      <th>Toxicity Value</th>\n",
       "    </tr>\n",
       "  </thead>\n",
       "  <tbody>\n",
       "    <tr>\n",
       "      <th>0</th>\n",
       "      <td>TOX-75</td>\n",
       "      <td>minoxidil</td>\n",
       "      <td>3-hydroxy-2-imino-6-piperidin-1-ylpyrimidin-4-...</td>\n",
       "      <td>4201.0</td>\n",
       "      <td>Nc1cc(N2CCCCC2)nc(N)[n+]1[O-]</td>\n",
       "      <td>ZIMGGGWCDYVHOY-UHFFFAOYSA-N</td>\n",
       "      <td>0</td>\n",
       "    </tr>\n",
       "    <tr>\n",
       "      <th>1</th>\n",
       "      <td>TOX-90</td>\n",
       "      <td>dichlorphenamide</td>\n",
       "      <td>4,5-dichlorobenzene-1,3-disulfonamide</td>\n",
       "      <td>3038.0</td>\n",
       "      <td>NS(=O)(=O)c1cc(Cl)c(Cl)c(S(N)(=O)=O)c1</td>\n",
       "      <td>GJQPMPFPNINLKP-UHFFFAOYSA-N</td>\n",
       "      <td>0</td>\n",
       "    </tr>\n",
       "  </tbody>\n",
       "</table>\n",
       "</div>"
      ],
      "text/plain": [
       "     TAID              Name  \\\n",
       "0  TOX-75         minoxidil   \n",
       "1  TOX-90  dichlorphenamide   \n",
       "\n",
       "                                          IUPAC Name  PubChem CID  \\\n",
       "0  3-hydroxy-2-imino-6-piperidin-1-ylpyrimidin-4-...       4201.0   \n",
       "1              4,5-dichlorobenzene-1,3-disulfonamide       3038.0   \n",
       "\n",
       "                         Canonical SMILES                     InChIKey  \\\n",
       "0           Nc1cc(N2CCCCC2)nc(N)[n+]1[O-]  ZIMGGGWCDYVHOY-UHFFFAOYSA-N   \n",
       "1  NS(=O)(=O)c1cc(Cl)c(Cl)c(S(N)(=O)=O)c1  GJQPMPFPNINLKP-UHFFFAOYSA-N   \n",
       "\n",
       "   Toxicity Value  \n",
       "0               0  \n",
       "1               0  "
      ]
     },
     "execution_count": 13,
     "metadata": {},
     "output_type": "execute_result"
    }
   ],
   "source": [
    "DATA_PATH = \"../../data/CYP450/\"\n",
    "\n",
    "cyp_data = []\n",
    "for file in os.listdir(DATA_PATH):\n",
    "    if file.endswith(\".csv\"):\n",
    "        cyp_data.append(pd.read_csv(f\"{DATA_PATH}{file}\"))\n",
    "\n",
    "cyp_df = pd.concat(cyp_data)\n",
    "cyp_df.head(2)"
   ]
  },
  {
   "cell_type": "code",
   "execution_count": 14,
   "metadata": {},
   "outputs": [],
   "source": [
    "cyp_df.dropna(subset=[\"Canonical SMILES\"], inplace=True)\n",
    "cyp_df.drop_duplicates(subset=[\"Canonical SMILES\"], inplace=True)"
   ]
  },
  {
   "cell_type": "code",
   "execution_count": 15,
   "metadata": {},
   "outputs": [
    {
     "data": {
      "text/plain": [
       "'CYP450 compounds: 16234'"
      ]
     },
     "execution_count": 15,
     "metadata": {},
     "output_type": "execute_result"
    }
   ],
   "source": [
    "cyp450_cmp_smiles = cyp_df[\"Canonical SMILES\"].tolist()\n",
    "f\"CYP450 compounds: {len(cyp450_cmp_smiles)}\""
   ]
  },
  {
   "cell_type": "code",
   "execution_count": 16,
   "metadata": {},
   "outputs": [
    {
     "data": {
      "text/plain": [
       "0    10489\n",
       "1     5745\n",
       "Name: Toxicity Value, dtype: int64"
      ]
     },
     "execution_count": 16,
     "metadata": {},
     "output_type": "execute_result"
    }
   ],
   "source": [
    "cyp_df[\"Toxicity Value\"].value_counts()"
   ]
  },
  {
   "cell_type": "markdown",
   "metadata": {},
   "source": [
    "# NP likeliness"
   ]
  },
  {
   "cell_type": "code",
   "execution_count": 17,
   "metadata": {},
   "outputs": [
    {
     "name": "stderr",
     "output_type": "stream",
     "text": [
      "100%|██████████| 16234/16234 [00:05<00:00, 3224.06it/s]\n"
     ]
    }
   ],
   "source": [
    "cyp_df[\"np_score\"] = get_np_scores(cyp450_cmp_smiles)\n",
    "cyp_df.dropna(subset=[\"np_score\"], inplace=True)"
   ]
  },
  {
   "cell_type": "code",
   "execution_count": 18,
   "metadata": {},
   "outputs": [],
   "source": [
    "toxic_cyp450 = cyp_df[cyp_df[\"Toxicity Value\"] == 1]\n",
    "non_toxic_cyp450 = cyp_df[cyp_df[\"Toxicity Value\"] == 0]"
   ]
  },
  {
   "cell_type": "code",
   "execution_count": 19,
   "metadata": {},
   "outputs": [],
   "source": [
    "percent_tox_cyp450_dict = get_percent_distributions(toxic_cyp450[\"np_score\"].tolist())\n",
    "percent_non_tox_cyp450_dict = get_percent_distributions(\n",
    "    non_toxic_cyp450[\"np_score\"].tolist()\n",
    ")\n",
    "\n",
    "cyp450_proportion_toxic_dict = get_relative_proportion_of_toxic(\n",
    "    toxic_cyp450[\"np_score\"].tolist(), non_toxic_cyp450[\"np_score\"].tolist()\n",
    ")"
   ]
  },
  {
   "cell_type": "markdown",
   "metadata": {},
   "source": [
    "# Heptatoxicity"
   ]
  },
  {
   "cell_type": "code",
   "execution_count": 20,
   "metadata": {},
   "outputs": [
    {
     "data": {
      "text/html": [
       "<div>\n",
       "<style scoped>\n",
       "    .dataframe tbody tr th:only-of-type {\n",
       "        vertical-align: middle;\n",
       "    }\n",
       "\n",
       "    .dataframe tbody tr th {\n",
       "        vertical-align: top;\n",
       "    }\n",
       "\n",
       "    .dataframe thead th {\n",
       "        text-align: right;\n",
       "    }\n",
       "</style>\n",
       "<table border=\"1\" class=\"dataframe\">\n",
       "  <thead>\n",
       "    <tr style=\"text-align: right;\">\n",
       "      <th></th>\n",
       "      <th>TAID</th>\n",
       "      <th>Name</th>\n",
       "      <th>IUPAC Name</th>\n",
       "      <th>PubChem CID</th>\n",
       "      <th>Canonical SMILES</th>\n",
       "      <th>InChIKey</th>\n",
       "      <th>Toxicity Value</th>\n",
       "    </tr>\n",
       "  </thead>\n",
       "  <tbody>\n",
       "    <tr>\n",
       "      <th>0</th>\n",
       "      <td>TOX-9</td>\n",
       "      <td>ethinamate</td>\n",
       "      <td>(1-ethynylcyclohexyl) carbamate</td>\n",
       "      <td>3284.0</td>\n",
       "      <td>C#CC1(OC(N)=O)CCCCC1</td>\n",
       "      <td>GXRZIMHKGDIBEW-UHFFFAOYSA-N</td>\n",
       "      <td>0</td>\n",
       "    </tr>\n",
       "    <tr>\n",
       "      <th>1</th>\n",
       "      <td>TOX-21</td>\n",
       "      <td>D-Sorbitol</td>\n",
       "      <td>(2R,3R,4R,5S)-hexane-1,2,3,4,5,6-hexol</td>\n",
       "      <td>5780.0</td>\n",
       "      <td>OC[C@H](O)[C@@H](O)[C@H](O)[C@H](O)CO</td>\n",
       "      <td>FBPFZTCFMRRESA-JGWLITMVSA-N</td>\n",
       "      <td>0</td>\n",
       "    </tr>\n",
       "  </tbody>\n",
       "</table>\n",
       "</div>"
      ],
      "text/plain": [
       "     TAID        Name                              IUPAC Name  PubChem CID  \\\n",
       "0   TOX-9  ethinamate         (1-ethynylcyclohexyl) carbamate       3284.0   \n",
       "1  TOX-21  D-Sorbitol  (2R,3R,4R,5S)-hexane-1,2,3,4,5,6-hexol       5780.0   \n",
       "\n",
       "                        Canonical SMILES                     InChIKey  \\\n",
       "0                   C#CC1(OC(N)=O)CCCCC1  GXRZIMHKGDIBEW-UHFFFAOYSA-N   \n",
       "1  OC[C@H](O)[C@@H](O)[C@H](O)[C@H](O)CO  FBPFZTCFMRRESA-JGWLITMVSA-N   \n",
       "\n",
       "   Toxicity Value  \n",
       "0               0  \n",
       "1               0  "
      ]
     },
     "execution_count": 20,
     "metadata": {},
     "output_type": "execute_result"
    }
   ],
   "source": [
    "hepato_df = pd.read_csv(\"../../data/Hepatotoxicity.csv\")\n",
    "hepato_df.head(2)"
   ]
  },
  {
   "cell_type": "code",
   "execution_count": 21,
   "metadata": {},
   "outputs": [],
   "source": [
    "hepato_df.dropna(subset=[\"Canonical SMILES\"], inplace=True)\n",
    "hepato_df.drop_duplicates(subset=[\"Canonical SMILES\"], inplace=True)"
   ]
  },
  {
   "cell_type": "code",
   "execution_count": 22,
   "metadata": {},
   "outputs": [
    {
     "data": {
      "text/plain": [
       "'Hepatotoxicity compounds: 2847'"
      ]
     },
     "execution_count": 22,
     "metadata": {},
     "output_type": "execute_result"
    }
   ],
   "source": [
    "hepato_cmp_smiles = hepato_df[\"Canonical SMILES\"].tolist()\n",
    "f\"Hepatotoxicity compounds: {len(hepato_cmp_smiles)}\""
   ]
  },
  {
   "cell_type": "code",
   "execution_count": 23,
   "metadata": {},
   "outputs": [
    {
     "data": {
      "text/plain": [
       "1    1450\n",
       "0    1397\n",
       "Name: Toxicity Value, dtype: int64"
      ]
     },
     "execution_count": 23,
     "metadata": {},
     "output_type": "execute_result"
    }
   ],
   "source": [
    "hepato_df[\"Toxicity Value\"].value_counts()"
   ]
  },
  {
   "cell_type": "markdown",
   "metadata": {},
   "source": [
    "# NP likeliness"
   ]
  },
  {
   "cell_type": "code",
   "execution_count": 24,
   "metadata": {},
   "outputs": [
    {
     "name": "stderr",
     "output_type": "stream",
     "text": [
      "100%|██████████| 2847/2847 [00:00<00:00, 2978.70it/s]\n"
     ]
    }
   ],
   "source": [
    "hepato_df[\"np_score\"] = get_np_scores(hepato_cmp_smiles)\n",
    "hepato_df.dropna(subset=[\"np_score\"], inplace=True)"
   ]
  },
  {
   "cell_type": "code",
   "execution_count": 25,
   "metadata": {},
   "outputs": [],
   "source": [
    "toxic_hepato = hepato_df[hepato_df[\"Toxicity Value\"] == 1]\n",
    "non_toxic_hepato = hepato_df[hepato_df[\"Toxicity Value\"] == 0]"
   ]
  },
  {
   "cell_type": "code",
   "execution_count": 26,
   "metadata": {},
   "outputs": [],
   "source": [
    "percent_tox_hepato_dict = get_percent_distributions(toxic_hepato[\"np_score\"].tolist())\n",
    "percent_non_tox_hepato_dict = get_percent_distributions(\n",
    "    non_toxic_hepato[\"np_score\"].tolist()\n",
    ")\n",
    "\n",
    "\n",
    "hepato_proportion_toxic_dict = get_relative_proportion_of_toxic(\n",
    "    toxic_cyp450[\"np_score\"].tolist(), non_toxic_cyp450[\"np_score\"].tolist()\n",
    ")"
   ]
  },
  {
   "cell_type": "markdown",
   "metadata": {},
   "source": [
    "# Distribution plot"
   ]
  },
  {
   "cell_type": "code",
   "execution_count": 27,
   "metadata": {},
   "outputs": [],
   "source": [
    "# create a dataframe with the data\n",
    "percentages_df = pd.DataFrame(\n",
    "    [\n",
    "        percent_tox_carcino_dict,\n",
    "        percent_non_tox_carcino_dict,\n",
    "        percent_tox_cyp450_dict,\n",
    "        percent_non_tox_cyp450_dict,\n",
    "        percent_tox_hepato_dict,\n",
    "        percent_non_tox_hepato_dict,\n",
    "    ],\n",
    "    index=[\n",
    "        \"Caricinogens\",\n",
    "        \"Non-Carcinogens\",\n",
    "        \"CYP450 Toxicity\",\n",
    "        \"CYP450 Non-Toxicity\",\n",
    "        \"Hepatotoxicity\",\n",
    "        \"Hepatotoxicity Non-Toxicity\",\n",
    "    ],\n",
    ")"
   ]
  },
  {
   "cell_type": "code",
   "execution_count": 28,
   "metadata": {},
   "outputs": [
    {
     "data": {
      "text/html": [
       "<div>\n",
       "<style scoped>\n",
       "    .dataframe tbody tr th:only-of-type {\n",
       "        vertical-align: middle;\n",
       "    }\n",
       "\n",
       "    .dataframe tbody tr th {\n",
       "        vertical-align: top;\n",
       "    }\n",
       "\n",
       "    .dataframe thead th {\n",
       "        text-align: right;\n",
       "    }\n",
       "</style>\n",
       "<table border=\"1\" class=\"dataframe\">\n",
       "  <thead>\n",
       "    <tr style=\"text-align: right;\">\n",
       "      <th></th>\n",
       "      <th>Hybrid</th>\n",
       "      <th>NP</th>\n",
       "      <th>Synthetic</th>\n",
       "    </tr>\n",
       "  </thead>\n",
       "  <tbody>\n",
       "    <tr>\n",
       "      <th>Caricinogens</th>\n",
       "      <td>18.92</td>\n",
       "      <td>14.94</td>\n",
       "      <td>66.14</td>\n",
       "    </tr>\n",
       "    <tr>\n",
       "      <th>Non-Carcinogens</th>\n",
       "      <td>19.48</td>\n",
       "      <td>22.29</td>\n",
       "      <td>58.23</td>\n",
       "    </tr>\n",
       "    <tr>\n",
       "      <th>CYP450 Toxicity</th>\n",
       "      <td>4.72</td>\n",
       "      <td>5.24</td>\n",
       "      <td>90.04</td>\n",
       "    </tr>\n",
       "    <tr>\n",
       "      <th>CYP450 Non-Toxicity</th>\n",
       "      <td>12.43</td>\n",
       "      <td>17.18</td>\n",
       "      <td>70.39</td>\n",
       "    </tr>\n",
       "    <tr>\n",
       "      <th>Hepatotoxicity</th>\n",
       "      <td>13.19</td>\n",
       "      <td>32.67</td>\n",
       "      <td>54.14</td>\n",
       "    </tr>\n",
       "    <tr>\n",
       "      <th>Hepatotoxicity Non-Toxicity</th>\n",
       "      <td>14.36</td>\n",
       "      <td>57.00</td>\n",
       "      <td>28.64</td>\n",
       "    </tr>\n",
       "  </tbody>\n",
       "</table>\n",
       "</div>"
      ],
      "text/plain": [
       "                             Hybrid     NP  Synthetic\n",
       "Caricinogens                  18.92  14.94      66.14\n",
       "Non-Carcinogens               19.48  22.29      58.23\n",
       "CYP450 Toxicity                4.72   5.24      90.04\n",
       "CYP450 Non-Toxicity           12.43  17.18      70.39\n",
       "Hepatotoxicity                13.19  32.67      54.14\n",
       "Hepatotoxicity Non-Toxicity   14.36  57.00      28.64"
      ]
     },
     "execution_count": 28,
     "metadata": {},
     "output_type": "execute_result"
    }
   ],
   "source": [
    "# rename percentage columns\n",
    "percentages_df = percentages_df.rename(\n",
    "    columns={\n",
    "        \"hybrid_percentage\": \"Hybrid\",\n",
    "        \"n_hybrid\": \"Hybrid Count\",\n",
    "        \"np_like_percentage\": \"NP\",\n",
    "        \"n_np_like\": \"NP Count\",\n",
    "        \"synthetics_percentage\": \"Synthetic\",\n",
    "        \"n_synthetics\": \"Synthetic Count\",\n",
    "    }\n",
    ")\n",
    "percentages_df"
   ]
  },
  {
   "cell_type": "markdown",
   "metadata": {},
   "source": [
    "## chi-squared test"
   ]
  },
  {
   "cell_type": "code",
   "execution_count": 29,
   "metadata": {},
   "outputs": [],
   "source": [
    "from scipy.stats import chi2_contingency, contingency"
   ]
  },
  {
   "cell_type": "code",
   "execution_count": 30,
   "metadata": {},
   "outputs": [],
   "source": [
    "# contingency table for carcinogenicity\n",
    "carcino_contingency_table = [\n",
    "    [\n",
    "        percent_tox_carcino_dict[\"np_like_percentage\"],\n",
    "        percent_tox_carcino_dict[\"synthetics_percentage\"],\n",
    "    ],\n",
    "    [\n",
    "        percent_non_tox_carcino_dict[\"np_like_percentage\"],\n",
    "        percent_non_tox_carcino_dict[\"synthetics_percentage\"],\n",
    "    ],\n",
    "]\n",
    "carcino_res = chi2_contingency(carcino_contingency_table)\n",
    "\n",
    "# contingency table for carcinogenicity\n",
    "hepato_contingency_table = [\n",
    "    [\n",
    "        percent_tox_hepato_dict[\"np_like_percentage\"],\n",
    "        percent_tox_hepato_dict[\"synthetics_percentage\"],\n",
    "    ],\n",
    "    [\n",
    "        percent_non_tox_hepato_dict[\"np_like_percentage\"],\n",
    "        percent_non_tox_hepato_dict[\"synthetics_percentage\"],\n",
    "    ],\n",
    "]\n",
    "\n",
    "# Null hypothesis: NP-like and synthetic compounds are equally likely to be hepatotoxic\n",
    "hepato_res = chi2_contingency(hepato_contingency_table)\n",
    "\n",
    "# contingency table for carcinogenicity\n",
    "cyp_contingency_table = [\n",
    "    [\n",
    "        percent_tox_cyp450_dict[\"np_like_percentage\"],\n",
    "        percent_tox_cyp450_dict[\"synthetics_percentage\"],\n",
    "    ],\n",
    "    [\n",
    "        percent_non_tox_cyp450_dict[\"np_like_percentage\"],\n",
    "        percent_non_tox_cyp450_dict[\"synthetics_percentage\"],\n",
    "    ],\n",
    "]\n",
    "\n",
    "# Null hypothesis: NP-like and synthetic compounds are equally likely to be CYP450 toxic\n",
    "cyp_res = chi2_contingency(cyp_contingency_table)"
   ]
  },
  {
   "cell_type": "code",
   "execution_count": 31,
   "metadata": {},
   "outputs": [],
   "source": [
    "sns.set_style(\"whitegrid\")"
   ]
  },
  {
   "cell_type": "code",
   "execution_count": 32,
   "metadata": {},
   "outputs": [],
   "source": [
    "car = pd.DataFrame(\n",
    "    {\n",
    "        \"Class\": [\"Hybrid\", \"NP\", \"Synthetic\"],\n",
    "        \"Percentage\": [\n",
    "            cancer_proportion_toxic_dict[\"proportion_toxic_hybrid\"],\n",
    "            cancer_proportion_toxic_dict[\"proportion_toxic_np_like\"],\n",
    "            cancer_proportion_toxic_dict[\"proportion_toxic_synthetics\"],\n",
    "        ],\n",
    "    }\n",
    ")\n",
    "\n",
    "hep = pd.DataFrame(\n",
    "    {\n",
    "        \"Class\": [\"Hybrid\", \"NP\", \"Synthetic\"],\n",
    "        \"Percentage\": [\n",
    "            hepato_proportion_toxic_dict[\"proportion_toxic_hybrid\"],\n",
    "            hepato_proportion_toxic_dict[\"proportion_toxic_np_like\"],\n",
    "            hepato_proportion_toxic_dict[\"proportion_toxic_synthetics\"],\n",
    "        ],\n",
    "    }\n",
    ")\n",
    "\n",
    "cyp = pd.DataFrame(\n",
    "    {\n",
    "        \"Class\": [\"Hybrid\", \"NP\", \"Synthetic\"],\n",
    "        \"Percentage\": [\n",
    "            cyp450_proportion_toxic_dict[\"proportion_toxic_hybrid\"],\n",
    "            cyp450_proportion_toxic_dict[\"proportion_toxic_np_like\"],\n",
    "            cyp450_proportion_toxic_dict[\"proportion_toxic_synthetics\"],\n",
    "        ],\n",
    "    }\n",
    ")"
   ]
  },
  {
   "cell_type": "code",
   "execution_count": 33,
   "metadata": {},
   "outputs": [
    {
     "data": {
      "image/png": "[encoded data removed]",
      "text/plain": [
       "<Figure size 1500x400 with 3 Axes>"
      ]
     },
     "metadata": {},
     "output_type": "display_data"
    }
   ],
   "source": [
    "plt.figure(figsize=([15, 4]))\n",
    "\n",
    "\n",
    "order_list = [\"Hybrid\", \"NP\", \"Synthetic\"]\n",
    "colors = [\n",
    "    \"#afacac\",\n",
    "    \"#31d091\",\n",
    "    \"#e6b491\",\n",
    "]\n",
    "\n",
    "# sup title\n",
    "plt.suptitle(\"Experimental toxicity data\", fontsize=18)\n",
    "\n",
    "plt.subplot(1, 3, 3)\n",
    "ax1 = sns.barplot(\n",
    "    data=car,\n",
    "    x=\"Class\",\n",
    "    y=\"Percentage\",\n",
    "    hue=\"Class\",\n",
    "    order=order_list,\n",
    "    palette=colors,\n",
    "    alpha=1,\n",
    ")\n",
    "plt.title(\"Carcinogenecity\", fontsize=12)\n",
    "plt.ylabel(\"\")\n",
    "plt.xticks(fontsize=12)\n",
    "plt.xlabel(\"\")\n",
    "\n",
    "ax1.set_ylim([0, 100])\n",
    "\n",
    "plt.subplot(1, 3, 2)\n",
    "ax2 = sns.barplot(\n",
    "    data=hep,\n",
    "    x=\"Class\",\n",
    "    y=\"Percentage\",\n",
    "    hue=\"Class\",\n",
    "    order=[\"Hybrid\", \"NP\", \"Synthetic\"],\n",
    "    palette=colors,\n",
    "    alpha=1,\n",
    ")\n",
    "plt.title(\"Hepatotoxicity\", fontsize=12)\n",
    "plt.ylabel(\"\")\n",
    "plt.xticks(fontsize=12)\n",
    "plt.xlabel(\"\")\n",
    "ax2.set_ylim([0, 100])\n",
    "\n",
    "plt.subplot(1, 3, 1)\n",
    "ax3 = sns.barplot(\n",
    "    data=cyp,\n",
    "    x=\"Class\",\n",
    "    y=\"Percentage\",\n",
    "    hue=\"Class\",\n",
    "    order=[\"Hybrid\", \"NP\", \"Synthetic\"],\n",
    "    palette=colors,\n",
    "    alpha=1,\n",
    ")\n",
    "\n",
    "plt.title(\"CYP450 Toxicity\", fontsize=12)\n",
    "plt.ylabel(\"\")\n",
    "plt.xticks(fontsize=12)\n",
    "plt.xlabel(\"\")\n",
    "ax3.set_ylim([0, 100])\n",
    "plt.ylabel(\"Percentage of toxic compounds (%)\", fontsize=12)\n",
    "\n",
    "\n",
    "hybrid_patch = mpatches.Patch(color=colors[0], label=order_list[0])\n",
    "np_patch = mpatches.Patch(color=colors[1], label=order_list[1])\n",
    "synthetic_patch = mpatches.Patch(color=colors[2], label=order_list[2])\n",
    "\n",
    "ax2.legend(\n",
    "    [\n",
    "        hybrid_patch,\n",
    "        np_patch,\n",
    "        synthetic_patch,\n",
    "    ],\n",
    "    order_list,\n",
    "    loc=\"upper center\",\n",
    "    bbox_to_anchor=(0.5, -0.1),\n",
    "    ncol=3,\n",
    "    # increase font size\n",
    "    prop={\"size\": 12},\n",
    ")\n",
    "\n",
    "plt.tight_layout()\n",
    "\n",
    "# dpi\n",
    "plt.savefig(\"../../data/output/plots/figure3.png\", dpi=500)\n",
    "plt.show()"
   ]
  },
  {
   "cell_type": "markdown",
   "metadata": {},
   "source": [
    "### Statistical significance through odds-ratio"
   ]
  },
  {
   "cell_type": "code",
   "execution_count": 34,
   "metadata": {},
   "outputs": [
    {
     "data": {
      "text/plain": [
       "ConfidenceInterval(low=0.26319301780488685, high=1.3421628755633825)"
      ]
     },
     "execution_count": 34,
     "metadata": {},
     "output_type": "execute_result"
    }
   ],
   "source": [
    "carcino_contingency_table2 = [\n",
    "    [\n",
    "        round(percent_tox_carcino_dict[\"np_like_percentage\"]),\n",
    "        round(percent_tox_carcino_dict[\"synthetics_percentage\"]),\n",
    "    ],\n",
    "    [\n",
    "        round(percent_non_tox_carcino_dict[\"np_like_percentage\"]),\n",
    "        round(percent_non_tox_carcino_dict[\"synthetics_percentage\"]),\n",
    "    ],\n",
    "]\n",
    "res = contingency.odds_ratio(carcino_contingency_table2)\n",
    "res.confidence_interval(confidence_level=0.95)"
   ]
  },
  {
   "cell_type": "code",
   "execution_count": 35,
   "metadata": {},
   "outputs": [
    {
     "data": {
      "text/plain": [
       "ConfidenceInterval(low=0.158961362665341, high=0.6059218456326446)"
      ]
     },
     "execution_count": 35,
     "metadata": {},
     "output_type": "execute_result"
    }
   ],
   "source": [
    "hepato_contingency_table2 = [\n",
    "    [\n",
    "        round(percent_tox_hepato_dict[\"np_like_percentage\"]),\n",
    "        round(percent_tox_hepato_dict[\"synthetics_percentage\"]),\n",
    "    ],\n",
    "    [\n",
    "        round(percent_non_tox_hepato_dict[\"np_like_percentage\"]),\n",
    "        round(percent_non_tox_hepato_dict[\"synthetics_percentage\"]),\n",
    "    ],\n",
    "]\n",
    "res = contingency.odds_ratio(hepato_contingency_table2)\n",
    "res.confidence_interval(confidence_level=0.95)"
   ]
  },
  {
   "cell_type": "code",
   "execution_count": 36,
   "metadata": {},
   "outputs": [
    {
     "data": {
      "text/plain": [
       "ConfidenceInterval(low=0.06334511320671765, high=0.6920633630496894)"
      ]
     },
     "execution_count": 36,
     "metadata": {},
     "output_type": "execute_result"
    }
   ],
   "source": [
    "cyp_contingency_table2 = [\n",
    "    [\n",
    "        round(percent_tox_cyp450_dict[\"np_like_percentage\"]),\n",
    "        round(percent_tox_cyp450_dict[\"synthetics_percentage\"]),\n",
    "    ],\n",
    "    [\n",
    "        round(percent_non_tox_cyp450_dict[\"np_like_percentage\"]),\n",
    "        round(percent_non_tox_cyp450_dict[\"synthetics_percentage\"]),\n",
    "    ],\n",
    "]\n",
    "res = contingency.odds_ratio(cyp_contingency_table2)\n",
    "res.confidence_interval(confidence_level=0.95)"
   ]
  }
 ],
 "metadata": {
  "kernelspec": {
   "display_name": ".venv",
   "language": "python",
   "name": "python3"
  },
  "language_info": {
   "codemirror_mode": {
    "name": "ipython",
    "version": 3
   },
   "file_extension": ".py",
   "mimetype": "text/x-python",
   "name": "python",
   "nbconvert_exporter": "python",
   "pygments_lexer": "ipython3",
   "version": "3.9.18"
  }
 },
 "nbformat": 4,
 "nbformat_minor": 2
}
