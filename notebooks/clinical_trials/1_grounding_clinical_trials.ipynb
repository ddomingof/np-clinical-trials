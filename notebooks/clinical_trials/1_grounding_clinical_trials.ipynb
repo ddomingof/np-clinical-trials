{
 "cells": [
  {
   "cell_type": "markdown",
   "metadata": {},
   "source": [
    "# Grounding clinical trials interventions using PubChem's API\n",
    "\n",
    "Data from https://aact.ctti-clinicaltrials.org"
   ]
  },
  {
   "cell_type": "code",
   "execution_count": null,
   "metadata": {},
   "outputs": [],
   "source": [
    "from collections import defaultdict\n",
    "import json\n",
    "\n",
    "import pandas as pd\n",
    "\n",
    "from pubchempy import get_compounds\n",
    "from tqdm import tqdm"
   ]
  },
  {
   "cell_type": "markdown",
   "metadata": {},
   "source": [
    "Read clinical trials data (downloaded from https://aact.ctti-clinicaltrials.org/download)"
   ]
  },
  {
   "cell_type": "code",
   "execution_count": null,
   "metadata": {},
   "outputs": [],
   "source": [
    "interventions_df = pd.read_csv(\n",
    "    \"../../data/clinical_trials/interventions.txt.gz\",\n",
    "    compression=\"gzip\",\n",
    "    sep=\"|\",\n",
    "    usecols=[\n",
    "        \"id\",\n",
    "        \"nct_id\",\n",
    "        \"intervention_type\",\n",
    "        \"name\",\n",
    "    ],\n",
    ")"
   ]
  },
  {
   "cell_type": "code",
   "execution_count": null,
   "metadata": {},
   "outputs": [],
   "source": [
    "interventions_df.head(1)"
   ]
  },
  {
   "cell_type": "markdown",
   "metadata": {},
   "source": [
    "Load study metadata"
   ]
  },
  {
   "cell_type": "code",
   "execution_count": null,
   "metadata": {},
   "outputs": [],
   "source": [
    "studies_df = pd.read_csv(\n",
    "    \"../../data/clinical_trials/studies.txt.gz\",\n",
    "    sep=\"|\",\n",
    "    usecols=[\n",
    "        \"nct_id\",\n",
    "        \"phase\",\n",
    "    ],\n",
    "    index_col=\"nct_id\",\n",
    "    dtype=\"str\",\n",
    "    compression=\"gzip\",\n",
    ")"
   ]
  },
  {
   "cell_type": "code",
   "execution_count": null,
   "metadata": {},
   "outputs": [],
   "source": [
    "studies_df.shape[0]"
   ]
  },
  {
   "cell_type": "markdown",
   "metadata": {},
   "source": [
    "Mapping clinical trials ids to phase"
   ]
  },
  {
   "cell_type": "code",
   "execution_count": null,
   "metadata": {},
   "outputs": [],
   "source": [
    "studies_df = studies_df[studies_df[\"phase\"] != \"Not Applicable\"]\n",
    "# Remove NaNs in phase\n",
    "studies_df = studies_df[studies_df[\"phase\"].notna()]"
   ]
  },
  {
   "cell_type": "code",
   "execution_count": null,
   "metadata": {},
   "outputs": [],
   "source": [
    "studies_df.shape[0]"
   ]
  },
  {
   "cell_type": "code",
   "execution_count": null,
   "metadata": {},
   "outputs": [],
   "source": [
    "# Map nct_id (index) to phase witha dict\n",
    "studies_df = studies_df[\"phase\"].to_dict()"
   ]
  },
  {
   "cell_type": "code",
   "execution_count": null,
   "metadata": {},
   "outputs": [],
   "source": [
    "# Map name to nct_id with a dict\n",
    "intervention_to_latest_phase = defaultdict(set)\n",
    "\n",
    "skipped = 0\n",
    "\n",
    "for _, nct_id, _, intervention_name in interventions_df.values:\n",
    "    if nct_id not in studies_df:\n",
    "        skipped += 1\n",
    "        continue\n",
    "\n",
    "    intervention_to_latest_phase[intervention_name].add(int(studies_df[nct_id][-1]))"
   ]
  },
  {
   "cell_type": "markdown",
   "metadata": {},
   "source": [
    "Count interventions that have been used in at least phase I and the ones that are not"
   ]
  },
  {
   "cell_type": "code",
   "execution_count": null,
   "metadata": {},
   "outputs": [],
   "source": [
    "len(intervention_to_latest_phase), skipped"
   ]
  },
  {
   "cell_type": "markdown",
   "metadata": {},
   "source": [
    "Grounding intervention names to PubChem ids"
   ]
  },
  {
   "cell_type": "code",
   "execution_count": null,
   "metadata": {},
   "outputs": [],
   "source": [
    "def is_valid(name):\n",
    "    if pd.isna(name):\n",
    "        return False\n",
    "\n",
    "    if \"placebo\" in name.lower():\n",
    "        return False\n",
    "\n",
    "    if (\n",
    "        # Antibodies\n",
    "        \"mab\" in name.lower()\n",
    "        or \"globulin\" in name.lower()\n",
    "        or \"saline infusion\" in name.lower()\n",
    "        or \"vehicle\" in name.lower()\n",
    "        or \"cells\" in name.lower()\n",
    "        or \"control\" in name.lower()\n",
    "    ):\n",
    "        return False\n",
    "\n",
    "    return True"
   ]
  },
  {
   "cell_type": "markdown",
   "metadata": {},
   "source": [
    "The following code below is meant to populate the jsons that are already loaded by searching every intervention name in the clinical trials data and mapping it to a PubChem id. This is a very slow process and it is not necessary to run it again. The jsons are already populated."
   ]
  },
  {
   "cell_type": "code",
   "execution_count": null,
   "metadata": {},
   "outputs": [],
   "source": [
    "drug_to_pubchems = defaultdict(list)\n",
    "\n",
    "skipped = set()\n",
    "\n",
    "# filter df to have only drugs\n",
    "interventions_df = interventions_df[interventions_df[\"intervention_type\"] == \"Drug\"]\n",
    "\n",
    "# filter columns that has with placebo or control in the name\n",
    "interventions_df = interventions_df[\n",
    "    ~interventions_df[\"intervention_type\"].str.lower().str.contains(\"placebo|control\")\n",
    "]\n",
    "\n",
    "# Make a set with all the intervention names\n",
    "intervention_names = set(interventions_df[\"name\"].values)\n",
    "\n",
    "for intervention in tqdm(intervention_names, total=len(intervention_names)):\n",
    "    if not isinstance(intervention, str):\n",
    "        continue\n",
    "\n",
    "    if not is_valid(intervention):\n",
    "        continue\n",
    "\n",
    "    compounds = get_compounds(intervention, namespace=\"name\")\n",
    "\n",
    "    if not compounds:\n",
    "        skipped.add(intervention)\n",
    "        continue\n",
    "\n",
    "    drug_to_pubchems[intervention].append(\n",
    "        {\n",
    "            \"cid\": compounds[0].cid,\n",
    "            \"smiles\": compounds[0].canonical_smiles,\n",
    "        }\n",
    "    )\n",
    "\n",
    "    # export the dict as a json every 1000 iterations\n",
    "    if len(drug_to_pubchems) % 100 == 0:\n",
    "        with open(\"drug_to_pubchems.json\", \"w\") as f:\n",
    "            json.dump(drug_to_pubchems, f, indent=4)\n",
    "\n",
    "    if len(skipped) % 100 == 0:\n",
    "        # print what's the percentage of skipped drugs\n",
    "        # print(f\"Skipped {len(skipped) / * 100:.2f}% of rows have been skipped.\")\n",
    "\n",
    "        # export the skipped drugs as a json\n",
    "        with open(\"skipped.json\", \"w\") as f:\n",
    "            json.dump(list(skipped), f, indent=4)"
   ]
  },
  {
   "cell_type": "code",
   "execution_count": null,
   "metadata": {},
   "outputs": [],
   "source": []
  }
 ],
 "metadata": {
  "kernelspec": {
   "display_name": "Python 3 (ipykernel)",
   "language": "python",
   "name": "python3"
  },
  "language_info": {
   "codemirror_mode": {
    "name": "ipython",
    "version": 3
   },
   "file_extension": ".py",
   "mimetype": "text/x-python",
   "name": "python",
   "nbconvert_exporter": "python",
   "pygments_lexer": "ipython3",
   "version": "3.9.18"
  }
 },
 "nbformat": 4,
 "nbformat_minor": 4
}
